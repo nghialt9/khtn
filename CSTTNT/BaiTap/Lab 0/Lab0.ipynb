{
 "cells": [
  {
   "cell_type": "markdown",
   "id": "c271022d",
   "metadata": {},
   "source": [
    "| `Họ Và Tên`   | `Mã Sinh Viên`|\n",
    "| ------------------ |-------------|\n",
    "|Lâm Trọng Nghĩa| 22810209|\n",
    "\n"
   ]
  },
  {
   "cell_type": "markdown",
   "id": "f0290e4e-7c30-4cc0-a1f6-21dde19e0ff3",
   "metadata": {},
   "source": [
    "### **Python Basic Exercise for Beginners** ###"
   ]
  },
  {
   "cell_type": "code",
   "execution_count": 43,
   "id": "4a094329-6f75-4de0-aa56-0195cc3c46ac",
   "metadata": {},
   "outputs": [
    {
     "name": "stdout",
     "output_type": "stream",
     "text": [
      "Kết quả của phép nhân hoặc cộng 200 và 30 là: 230\n"
     ]
    }
   ],
   "source": [
    "def multiply_or_sum(a, b):\n",
    "    return a * b if a * b <= 1000 else a + b\n",
    "\n",
    "# Ví dụ:\n",
    "num1 = 200\n",
    "num2 = 30\n",
    "result = multiply_or_sum(num1, num2)\n",
    "print(f\"Kết quả của phép nhân hoặc cộng {num1} và {num2} là: {result}\")\n"
   ]
  },
  {
   "cell_type": "code",
   "execution_count": 44,
   "id": "0a3eb59f-dc6c-4542-a29f-4e6875839e28",
   "metadata": {},
   "outputs": [
    {
     "name": "stdout",
     "output_type": "stream",
     "text": [
      "Số hiện tại: 1, Số liền trước: 0, Tổng: 1\n",
      "Số hiện tại: 2, Số liền trước: 1, Tổng: 3\n",
      "Số hiện tại: 3, Số liền trước: 2, Tổng: 5\n",
      "Số hiện tại: 4, Số liền trước: 3, Tổng: 7\n",
      "Số hiện tại: 5, Số liền trước: 4, Tổng: 9\n",
      "Số hiện tại: 6, Số liền trước: 5, Tổng: 11\n",
      "Số hiện tại: 7, Số liền trước: 6, Tổng: 13\n",
      "Số hiện tại: 8, Số liền trước: 7, Tổng: 15\n",
      "Số hiện tại: 9, Số liền trước: 8, Tổng: 17\n",
      "Số hiện tại: 10, Số liền trước: 9, Tổng: 19\n"
     ]
    }
   ],
   "source": [
    "def print_sums():\n",
    "    prev_num = 0\n",
    "    for cur_num in range(1,11):\n",
    "        print(f\"Số hiện tại: {cur_num}, Số liền trước: {prev_num}, Tổng: {sum([cur_num, prev_num])}\")\n",
    "        prev_num = cur_num\n",
    "# Gọi thực thi hàm\n",
    "print_sums()\n"
   ]
  },
  {
   "cell_type": "code",
   "execution_count": 45,
   "id": "379d289c",
   "metadata": {},
   "outputs": [
    {
     "name": "stdout",
     "output_type": "stream",
     "text": [
      "Các ký tự với vị trí chẵn được lấy ra từ chuỗi 'taotestthu' là:\n",
      "t o e t h "
     ]
    }
   ],
   "source": [
    "def print_even_index_chars(input_string):\n",
    "    for index in range(len(input_string)):\n",
    "        if index % 2 == 0:\n",
    "            print(input_string[index], end=\" \")\n",
    "\n",
    "# Accept input from the user\n",
    "user_input = input(\"Nhập vào chuỗi ký tự: \")\n",
    "user_input = user_input.replace(\" \", \"\")\n",
    "print(f\"Các ký tự với vị trí chẵn được lấy ra từ chuỗi '{user_input}' là:\")\n",
    "print_even_index_chars(user_input)\n"
   ]
  },
  {
   "cell_type": "code",
   "execution_count": 46,
   "id": "bd74c4b8-d2e1-49c4-bedf-9da4ef5ac1ce",
   "metadata": {},
   "outputs": [
    {
     "name": "stdout",
     "output_type": "stream",
     "text": [
      "Sau khi xóa 10 ký tự đầu: Lỗi: 'n' phải là số nhỏ hơn độ dài của chuỗi\n",
      "Sau khi xóa 2 ký tự đầu: hialt\n"
     ]
    }
   ],
   "source": [
    "def remove_chars(input_string, n):\n",
    "    if n > len(input_string):\n",
    "        return \"Lỗi: 'n' phải là số nhỏ hơn độ dài của chuỗi\"\n",
    "    return input_string[n:]\n",
    "\n",
    "# Example usage:\n",
    "string = \"nghialt\"\n",
    "n = 10\n",
    "print(f\"Sau khi xóa {n} ký tự đầu: {remove_chars(string, n)}\")\n",
    "\n",
    "n = 2\n",
    "print(f\"Sau khi xóa {n} ký tự đầu: {remove_chars(string, n)}\")\n"
   ]
  },
  {
   "cell_type": "markdown",
   "id": "dbd9500f-2454-42e8-8302-51b603766c25",
   "metadata": {},
   "source": [
    "### **Python Input and Output Exercise** ###"
   ]
  },
  {
   "cell_type": "code",
   "execution_count": 47,
   "id": "e9f52c21-ec49-482a-947e-e69e07e4e416",
   "metadata": {},
   "outputs": [
    {
     "name": "stdout",
     "output_type": "stream",
     "text": [
      "Kết quả phép nhân 1.0 và 3.0 là: 3.0\n"
     ]
    }
   ],
   "source": [
    "def multiply_two_numbers():\n",
    "    try:\n",
    "        # Input data\n",
    "        num1 = float(input(\"Nhập số thứ nhất: \"))\n",
    "        num2 = float(input(\"Nhập số thứ hai: \"))\n",
    "        \n",
    "        # multiply\n",
    "        product = num1 * num2\n",
    "        \n",
    "        # show result\n",
    "        print(f\"Kết quả phép nhân {num1} và {num2} là: {product}\")\n",
    "    except ValueError:\n",
    "        print(\"Vui lòng nhập vào số\")\n",
    "\n",
    "# Call the function execute the logic\n",
    "multiply_two_numbers()\n"
   ]
  },
  {
   "cell_type": "code",
   "execution_count": 48,
   "id": "9f56c47a-e1f9-47d3-9d7f-b5870b01d6ca",
   "metadata": {},
   "outputs": [
    {
     "name": "stdout",
     "output_type": "stream",
     "text": [
      "Name**Is**James\n"
     ]
    }
   ],
   "source": [
    "def display_formatted_strings():\n",
    "    # Hiển thị các chuỗi với dấu phân cách **\n",
    "    print('Name', 'Is', 'James', sep='**')\n",
    "\n",
    "# Gọi hàm để thực thi logic\n",
    "display_formatted_strings()\n"
   ]
  },
  {
   "cell_type": "code",
   "execution_count": 51,
   "id": "15ec6ae6-4e21-4427-813b-4dec45e9329d",
   "metadata": {},
   "outputs": [
    {
     "name": "stdout",
     "output_type": "stream",
     "text": [
      "The octal number of decimal number 8 is 10\n"
     ]
    }
   ],
   "source": [
    "def decimal_to_octal(num):\n",
    "    # Chuyển đổi số thập phân sang số bát phân\n",
    "    octal_num = oct(num)\n",
    "    \n",
    "    # In ra số bát phân với định dạng mong muốn\n",
    "    print(f\"The octal number of decimal number {num} is {octal_num[2:]}\")\n",
    "\n",
    "# Ví dụ sử dụng\n",
    "num = 8\n",
    "decimal_to_octal(num)\n"
   ]
  },
  {
   "cell_type": "code",
   "execution_count": 58,
   "id": "b4551b80-eac2-4ea3-be07-61138bcba8b6",
   "metadata": {},
   "outputs": [
    {
     "name": "stdout",
     "output_type": "stream",
     "text": [
      "458.54\n"
     ]
    }
   ],
   "source": [
    "def display_float_with_two_decimals(num):\n",
    "    # Hiển thị số float với 2 chữ số thập phân\n",
    "    print(f\"{num:.2f}\")\n",
    "\n",
    "# Ví dụ sử dụng\n",
    "num = 458.541315\n",
    "display_float_with_two_decimals(num)\n"
   ]
  },
  {
   "cell_type": "markdown",
   "id": "5ae0a9e3-c483-488a-b069-8aab813e7e18",
   "metadata": {},
   "source": [
    "### **Python if else, for loop, and range() Exercises with Solutions** ###"
   ]
  },
  {
   "cell_type": "code",
   "execution_count": 63,
   "id": "415b4ec6-936d-4782-8cc8-998c8edde7f7",
   "metadata": {},
   "outputs": [
    {
     "name": "stdout",
     "output_type": "stream",
     "text": [
      "1\n",
      "2\n",
      "3\n",
      "4\n",
      "5\n",
      "6\n",
      "7\n",
      "8\n",
      "9\n",
      "10\n"
     ]
    }
   ],
   "source": [
    "def print_first_10_natural_numbers():\n",
    "    # Bắt đầu từ số tự nhiên đầu tiên\n",
    "    number = 1\n",
    "    \n",
    "    # Sử dụng vòng lặp while để in ra 10 số tự nhiên đầu tiên\n",
    "    while number <= 10:\n",
    "        print(number)\n",
    "        number += 1\n",
    "\n",
    "# Gọi hàm để thực thi logic\n",
    "print_first_10_natural_numbers()\n"
   ]
  },
  {
   "cell_type": "code",
   "execution_count": 64,
   "id": "bd58bcac-6651-4ecd-bbc5-f447164a9975",
   "metadata": {},
   "outputs": [
    {
     "name": "stdout",
     "output_type": "stream",
     "text": [
      "1 \n",
      "1 2 \n",
      "1 2 3 \n",
      "1 2 3 4 \n",
      "1 2 3 4 5 \n"
     ]
    }
   ],
   "source": [
    "def print_number_pattern():\n",
    "    # Số dòng của pattern\n",
    "    number_of_rows = 5\n",
    "    \n",
    "    # Sử dụng vòng lặp để in pattern\n",
    "    for i in range(1, number_of_rows + 1):\n",
    "        for j in range(1, i + 1):\n",
    "            print(j, end=\" \")\n",
    "        print(\"\")  # Chuyển sang dòng mới sau mỗi dòng của pattern\n",
    "\n",
    "# Gọi hàm để thực thi logic\n",
    "print_number_pattern()\n"
   ]
  },
  {
   "cell_type": "code",
   "execution_count": 68,
   "id": "c2e9d422-507c-4687-a9b9-40c0bc48a242",
   "metadata": {},
   "outputs": [
    {
     "name": "stdout",
     "output_type": "stream",
     "text": [
      "Tổng của tất cả các số từ 1 đến 50 là: 1275\n"
     ]
    }
   ],
   "source": [
    "def calculate_sum(n):\n",
    "    # Tính tổng của tất cả các số từ 1 đến n\n",
    "    total_sum = sum(range(1, n + 1))\n",
    "    return total_sum\n",
    "\n",
    "def main():\n",
    "    try:\n",
    "        # Nhận đầu vào từ người dùng\n",
    "        user_input = int(input(\"Nhập một số: \"))\n",
    "        \n",
    "        # Đảm bảo rằng người dùng nhập một số nguyên dương\n",
    "        if user_input <= 0:\n",
    "            print(\"Vui lòng nhập một số nguyên dương lớn hơn 0.\")\n",
    "        else:\n",
    "            # Tính và hiển thị tổng\n",
    "            result = calculate_sum(user_input)\n",
    "            print(f\"Tổng của tất cả các số từ 1 đến {user_input} là: {result}\")\n",
    "    except ValueError:\n",
    "        print(\"Đầu vào không hợp lệ. Vui lòng nhập một số nguyên.\")\n",
    "\n",
    "# Gọi hàm main để thực thi logic\n",
    "main()\n"
   ]
  },
  {
   "cell_type": "code",
   "execution_count": 69,
   "id": "7f341e8e-074e-40b5-a1b8-590a084f40ea",
   "metadata": {},
   "outputs": [
    {
     "name": "stdout",
     "output_type": "stream",
     "text": [
      "Bảng cửu chương của số 9:\n",
      "9\n",
      "18\n",
      "27\n",
      "36\n",
      "45\n",
      "54\n",
      "63\n",
      "72\n",
      "81\n",
      "90\n"
     ]
    }
   ],
   "source": [
    "def print_multiplication_table(num):\n",
    "    # Sử dụng vòng lặp để in bảng cửu chương của số đã cho\n",
    "    for i in range(1, 11):\n",
    "        print(num * i)\n",
    "\n",
    "def main():\n",
    "    try:\n",
    "        # Nhận đầu vào từ người dùng\n",
    "        user_input = int(input(\"Nhập một số để in bảng cửu chương của nó: \"))\n",
    "        \n",
    "        # Gọi hàm để in bảng cửu chương\n",
    "        print(f\"Bảng cửu chương của số {user_input}:\")\n",
    "        print_multiplication_table(user_input)\n",
    "    except ValueError:\n",
    "        print(\"Đầu vào không hợp lệ. Vui lòng nhập một số nguyên.\")\n",
    "\n",
    "# Gọi hàm main để thực thi logic\n",
    "main()\n"
   ]
  },
  {
   "cell_type": "markdown",
   "id": "1471bdc4-45bf-4171-bdb8-beefa1558c8c",
   "metadata": {},
   "source": [
    "### **Python Functions Exercise** ###"
   ]
  },
  {
   "cell_type": "code",
   "execution_count": 70,
   "id": "cd247480-211f-4c07-adfd-0205d7e0a4a6",
   "metadata": {},
   "outputs": [
    {
     "name": "stdout",
     "output_type": "stream",
     "text": [
      "Tên: Nghia, Tuổi: 30\n"
     ]
    }
   ],
   "source": [
    "def print_name_age(name, age):\n",
    "    # In giá trị của tên và tuổi\n",
    "    print(f\"Tên: {name}, Tuổi: {age}\")\n",
    "\n",
    "def main():\n",
    "    # Nhận đầu vào từ người dùng\n",
    "    name = input(\"Nhập tên: \")\n",
    "    age = input(\"Nhập tuổi: \")\n",
    "    \n",
    "    # Gọi hàm để in giá trị của tên và tuổi\n",
    "    print_name_age(name, age)\n",
    "\n",
    "# Gọi hàm main để thực thi logic\n",
    "main()\n"
   ]
  },
  {
   "cell_type": "code",
   "execution_count": 73,
   "id": "d49d25ac-0fb0-43e3-86de-b69b7327b592",
   "metadata": {},
   "outputs": [
    {
     "name": "stdout",
     "output_type": "stream",
     "text": [
      "Printing values\n",
      "20\n",
      "40\n",
      "60\n",
      "\n",
      "\n",
      "Printing values\n",
      "80\n",
      "100\n"
     ]
    }
   ],
   "source": [
    "def func1(*args):\n",
    "    # In ra giá trị của từng đối số\n",
    "    print(\"Printing values\")\n",
    "    for arg in args:\n",
    "        print(arg)\n",
    "\n",
    "# Gọi hàm với 3 đối số\n",
    "func1(20, 40, 60)\n",
    "print(\"\\n\")\n",
    "\n",
    "# Gọi hàm với 2 đối số\n",
    "func1(80, 100)\n"
   ]
  },
  {
   "cell_type": "code",
   "execution_count": 82,
   "id": "eacaa3f5-02c0-4f12-81c5-01ee9037d68b",
   "metadata": {},
   "outputs": [
    {
     "name": "stdout",
     "output_type": "stream",
     "text": [
      "{'Tổng': 50, 'Hiệu': 30}\n",
      "Tổng: 50, Hiệu: 30\n"
     ]
    }
   ],
   "source": [
    "def calculation(a, b):\n",
    "    # Tính tổng và hiệu của hai số\n",
    "    addition = a + b\n",
    "    subtraction = a - b\n",
    "    # Trả về cả hai kết quả trong một lệnh return\n",
    "    return {'Tổng': addition, 'Hiệu' :subtraction}\n",
    "\n",
    "# Gọi hàm với hai đối số\n",
    "res = calculation(40, 10)\n",
    "print(res)  # In ra kết quả\n",
    "\n",
    "# Tách riêng kết quả để in rõ ràng hơn\n",
    "print(f\"Tổng: {res['Tổng']}, Hiệu: {res['Hiệu']}\")\n"
   ]
  },
  {
   "cell_type": "code",
   "execution_count": 76,
   "id": "d98271eb-4ba8-4af3-9287-9dd70468f529",
   "metadata": {},
   "outputs": [
    {
     "name": "stdout",
     "output_type": "stream",
     "text": [
      "Tên: Ben, Lương: 12000\n",
      "Tên: Jessa, Lương: 9000\n"
     ]
    }
   ],
   "source": [
    "def show_employee(name, salary=9000):\n",
    "    # Hiển thị tên và lương của nhân viên\n",
    "    print(f\"Tên: {name}, Lương: {salary}\")\n",
    "\n",
    "# Gọi hàm với tên và lương\n",
    "show_employee(\"Ben\", 12000)\n",
    "\n",
    "# Gọi hàm chỉ với tên (lương sẽ sử dụng giá trị mặc định)\n",
    "show_employee(\"Jessa\")\n"
   ]
  },
  {
   "cell_type": "markdown",
   "id": "92b1eefd-c3e8-462c-a61d-89f9d914e049",
   "metadata": {},
   "source": [
    "### **Python String Exercise with Solutions** ###"
   ]
  },
  {
   "cell_type": "code",
   "execution_count": 86,
   "id": "8bfc95dd-e92c-4003-90ee-fa21fd615ca7",
   "metadata": {},
   "outputs": [
    {
     "name": "stdout",
     "output_type": "stream",
     "text": [
      "Chuỗi mới là: Jes\n"
     ]
    }
   ],
   "source": [
    "# Khai báo chuỗi đầu vào\n",
    "str1 = \"Jamess\"\n",
    "\n",
    "# Lấy ký tự đầu tiên\n",
    "first_char = str1[0]\n",
    "\n",
    "# Tính chỉ số của ký tự ở giữa\n",
    "middle_index = len(str1) // 2\n",
    "middle_char = str1[middle_index]\n",
    "\n",
    "# Lấy ký tự cuối cùng\n",
    "last_char = str1[-1]\n",
    "\n",
    "# Tạo chuỗi mới từ các ký tự đã lấy\n",
    "new_str = first_char + middle_char + last_char\n",
    "\n",
    "# In chuỗi mới ra màn hình\n",
    "print(\"Chuỗi mới là:\", new_str)\n"
   ]
  },
  {
   "cell_type": "code",
   "execution_count": 89,
   "id": "cf0a9b21-9851-4af9-8b1d-b07034a38555",
   "metadata": {},
   "outputs": [
    {
     "name": "stdout",
     "output_type": "stream",
     "text": [
      "Case 1 - Chuỗi mới là: Dip\n",
      "Case 2 - Chuỗi mới là: Son\n"
     ]
    }
   ],
   "source": [
    "def middle_three_chars(input_str):\n",
    "    # Tính chỉ số của ký tự ở giữa\n",
    "    middle_index = len(input_str) // 2\n",
    "    \n",
    "    # Lấy ba ký tự ở giữa\n",
    "    start_index = middle_index - 1\n",
    "    end_index = middle_index + 2\n",
    "    middle_three = input_str[start_index:end_index]\n",
    "    \n",
    "    return middle_three\n",
    "\n",
    "# Case 1\n",
    "str1 = \"JhonDipPeta\"\n",
    "result1 = middle_three_chars(str1)\n",
    "print(\"Case 1 - Chuỗi mới là:\", result1)\n",
    "\n",
    "# Case 2\n",
    "str2 = \"JaSonAy\"\n",
    "result2 = middle_three_chars(str2)\n",
    "print(\"Case 2 - Chuỗi mới là:\", result2)\n"
   ]
  },
  {
   "cell_type": "code",
   "execution_count": 90,
   "id": "41472784-e680-423b-a9f8-a76051cc6387",
   "metadata": {},
   "outputs": [
    {
     "name": "stdout",
     "output_type": "stream",
     "text": [
      "Chuỗi mới là: AuKellylt\n"
     ]
    }
   ],
   "source": [
    "def append_middle(s1, s2):\n",
    "    # Tính chỉ số giữa của s1\n",
    "    middle_index = len(s1) // 2\n",
    "    \n",
    "    # Chia s1 thành hai phần\n",
    "    first_part = s1[:middle_index]\n",
    "    second_part = s1[middle_index:]\n",
    "    \n",
    "    # Tạo chuỗi mới bằng cách chèn s2 vào giữa\n",
    "    s3 = first_part + s2 + second_part\n",
    "    \n",
    "    return s3\n",
    "\n",
    "# Khai báo chuỗi đầu vào\n",
    "s1 = \"Ault\"\n",
    "s2 = \"Kelly\"\n",
    "\n",
    "# Tạo chuỗi mới\n",
    "result = append_middle(s1, s2)\n",
    "print(\"Chuỗi mới là:\", result)\n"
   ]
  },
  {
   "cell_type": "code",
   "execution_count": 91,
   "id": "0beeb9cf-2120-408d-bf63-6ee2dd6b9592",
   "metadata": {},
   "outputs": [
    {
     "name": "stdout",
     "output_type": "stream",
     "text": [
      "Chuỗi mới là: AJrpan\n"
     ]
    }
   ],
   "source": [
    "def create_new_string(s1, s2):\n",
    "    # Lấy ký tự đầu tiên của mỗi chuỗi\n",
    "    first_char_s1 = s1[0]\n",
    "    first_char_s2 = s2[0]\n",
    "\n",
    "    # Tính chỉ số giữa và lấy ký tự ở giữa của mỗi chuỗi\n",
    "    middle_index_s1 = len(s1) // 2\n",
    "    middle_char_s1 = s1[middle_index_s1]\n",
    "\n",
    "    middle_index_s2 = len(s2) // 2\n",
    "    middle_char_s2 = s2[middle_index_s2]\n",
    "\n",
    "    # Lấy ký tự cuối cùng của mỗi chuỗi\n",
    "    last_char_s1 = s1[-1]\n",
    "    last_char_s2 = s2[-1]\n",
    "\n",
    "    # Tạo chuỗi mới từ các ký tự đã lấy\n",
    "    new_string = first_char_s1 + first_char_s2 + middle_char_s1 + middle_char_s2 + last_char_s1 + last_char_s2\n",
    "    \n",
    "    return new_string\n",
    "\n",
    "# Khai báo chuỗi đầu vào\n",
    "s1 = \"America\"\n",
    "s2 = \"Japan\"\n",
    "\n",
    "# Tạo chuỗi mới\n",
    "result = create_new_string(s1, s2)\n",
    "print(\"Chuỗi mới là:\", result)\n"
   ]
  },
  {
   "cell_type": "code",
   "execution_count": 92,
   "id": "3b28e02d-d359-4607-857d-e2e91acf3208",
   "metadata": {},
   "outputs": [
    {
     "name": "stdout",
     "output_type": "stream",
     "text": [
      "Chuỗi mới là: yaivePNT\n"
     ]
    }
   ],
   "source": [
    "def arrange_string(input_str):\n",
    "    # Khởi tạo các chuỗi rỗng để chứa các chữ cái thường và chữ cái hoa\n",
    "    lower_case = ''\n",
    "    upper_case = ''\n",
    "    \n",
    "    # Duyệt qua từng ký tự trong chuỗi đầu vào\n",
    "    for char in input_str:\n",
    "        # Kiểm tra nếu ký tự là chữ thường\n",
    "        if char.islower():\n",
    "            lower_case += char\n",
    "        # Kiểm tra nếu ký tự là chữ hoa\n",
    "        elif char.isupper():\n",
    "            upper_case += char\n",
    "    \n",
    "    # Kết hợp các chữ cái thường và chữ cái hoa lại\n",
    "    arranged_str = lower_case + upper_case\n",
    "    \n",
    "    return arranged_str\n",
    "\n",
    "# Khai báo chuỗi đầu vào\n",
    "str1 = \"PyNaTive\"\n",
    "\n",
    "# Gọi hàm và in kết quả\n",
    "result = arrange_string(str1)\n",
    "print(\"Chuỗi mới là:\", result)\n"
   ]
  },
  {
   "cell_type": "markdown",
   "id": "3dd08bf9-c3ca-4bbf-9bdd-746976a0a7df",
   "metadata": {},
   "source": [
    "### **Python Data Structure Exercise for Beginners** ###"
   ]
  },
  {
   "cell_type": "code",
   "execution_count": 95,
   "id": "68aaabc9-00e4-4d76-8d00-736e3016747c",
   "metadata": {},
   "outputs": [
    {
     "name": "stdout",
     "output_type": "stream",
     "text": [
      "Những phần tử với index lẻ từ danh sách 1\n",
      "[6, 12, 18]\n",
      "Những phần tử với index chẳn từ danh sách 2\n",
      "[4, 12, 20, 28]\n",
      "Gọp 2 danh sách\n",
      "[6, 12, 18, 4, 12, 20, 28]\n"
     ]
    }
   ],
   "source": [
    "def pick_elements(l1, l2):\n",
    "    # Lấy các phần tử ở vị trí lẻ từ danh sách l1\n",
    "    odd_index_elements_l1 = [l1[i] for i in range(len(l1)) if i % 2 != 0]\n",
    "\n",
    "    # Lấy các phần tử ở vị trí chẵn từ danh sách l2\n",
    "    even_index_elements_l2 = [l2[i] for i in range(len(l2)) if i % 2 == 0]\n",
    "\n",
    "    # Kết hợp các phần tử để tạo thành danh sách mới\n",
    "    l3 = odd_index_elements_l1 + even_index_elements_l2\n",
    "    \n",
    "    return {'odd-l1': odd_index_elements_l1, 'even-l2': even_index_elements_l2, 'l3': l3}\n",
    "\n",
    "# Khai báo danh sách đầu vào\n",
    "l1 = [3, 6, 9, 12, 15, 18, 21]\n",
    "l2 = [4, 8, 12, 16, 20, 24, 28]\n",
    "\n",
    "# Gọi hàm và nhận kết quả\n",
    "result = pick_elements(l1, l2)\n",
    "\n",
    "# In kết quả ra màn hình\n",
    "print(\"Những phần tử với index lẻ từ danh sách 1\")\n",
    "print(result['odd-l1'])\n",
    "\n",
    "print(\"Những phần tử với index chẳn từ danh sách 2\")\n",
    "print(result['even-l2'])\n",
    "\n",
    "print(\"Gọp 2 danh sách\")\n",
    "print(result['l3'])\n"
   ]
  },
  {
   "cell_type": "code",
   "execution_count": 96,
   "id": "bc02dc3c-5234-40d6-b21b-3dd364355ac0",
   "metadata": {},
   "outputs": [
    {
     "name": "stdout",
     "output_type": "stream",
     "text": [
      "Danh sách sau khi xóa phần từ tại index 4: [54, 44, 27, 79, 41]\n",
      "Danh sách sau khi add phần từ tại index 2: [54, 44, 91, 27, 79, 41]\n",
      "Danh sách sau khi add phần từ tại vị trí cuối: [54, 44, 91, 27, 79, 41, 91]\n"
     ]
    }
   ],
   "source": [
    "def modify_list(list1):\n",
    "    # Loại bỏ phần tử ở vị trí 4 và lưu nó vào biến removed_item\n",
    "    removed_item = list1.pop(4)\n",
    "    print(\"Danh sách sau khi xóa phần từ tại index 4:\", list1)\n",
    "\n",
    "    # Thêm phần tử đã loại bỏ vào vị trí thứ 2\n",
    "    list1.insert(2, removed_item)\n",
    "    print(\"Danh sách sau khi add phần từ tại index 2:\", list1)\n",
    "\n",
    "    # Thêm phần tử đã loại bỏ vào cuối danh sách\n",
    "    list1.append(removed_item)\n",
    "    print(\"Danh sách sau khi add phần từ tại vị trí cuối:\", list1)\n",
    "\n",
    "# Khai báo danh sách đầu vào\n",
    "list1 = [54, 44, 27, 79, 91, 41]\n",
    "\n",
    "# Gọi hàm để sửa đổi danh sách\n",
    "modify_list(list1)\n"
   ]
  },
  {
   "cell_type": "code",
   "execution_count": 120,
   "id": "bc06a82f-a2a3-4de1-9fcf-fb2ad511b385",
   "metadata": {},
   "outputs": [
    {
     "name": "stdout",
     "output_type": "stream",
     "text": [
      "Khối 1: [11, 45, 8]\n",
      "Sau khi đảo ngược: [8, 45, 11]\n",
      "Khối 2: [23, 14, 12]\n",
      "Sau khi đảo ngược: [12, 14, 23]\n",
      "Khối 3: [78, 45, 89]\n",
      "Sau khi đảo ngược: [89, 45, 78]\n",
      "Sau khi đảo ngược 1: [89, 45, 78]\n"
     ]
    }
   ],
   "source": [
    "def slice_and_reverse_list(sample_list):\n",
    "    # Tính chiều dài của mỗi phần\n",
    "    chunk_size = len(sample_list) // 3\n",
    "\n",
    "    # Chia danh sách thành 3 phần\n",
    "    chunk1 = sample_list[:chunk_size]\n",
    "    chunk2 = sample_list[chunk_size:chunk_size * 2]\n",
    "    chunk3 = sample_list[chunk_size * 2:]\n",
    "\n",
    "    # In kết quả\n",
    "    print(\"Khối 1:\", chunk1)\n",
    "    print(\"Sau khi đảo ngược:\", chunk1[::-1])\n",
    "    print(\"Khối 2:\", chunk2)\n",
    "    print(\"Sau khi đảo ngược:\", chunk2[::-1])\n",
    "    print(\"Khối 3:\", chunk3)\n",
    "    print(\"Sau khi đảo ngược:\", chunk3[::-1])\n",
    "    print(\"Sau khi đảo ngược 1:\", list(reversed(chunk3)))\n",
    "\n",
    "# Khai báo danh sách đầu vào\n",
    "sample_list = [11, 45, 8, 23, 14, 12, 78, 45, 89]\n",
    "\n",
    "# Gọi hàm để chia và đảo ngược danh sách\n",
    "slice_and_reverse_list(sample_list)\n"
   ]
  },
  {
   "cell_type": "code",
   "execution_count": 122,
   "id": "3512b765-1905-4d16-9fe3-7a61f9d51cb0",
   "metadata": {},
   "outputs": [
    {
     "name": "stdout",
     "output_type": "stream",
     "text": [
      "Kết quả điếm phần tử: {11: 2, 45: 3, 8: 1, 23: 2, 89: 1}\n"
     ]
    }
   ],
   "source": [
    "def count_occurrences(sample_list):\n",
    "    # Tạo một dictionary rỗng để lưu trữ số lần xuất hiện của mỗi phần tử\n",
    "    occurrence_dict = {}\n",
    "    \n",
    "    # Duyệt qua từng phần tử trong danh sách\n",
    "    for item in sample_list:\n",
    "        if item in occurrence_dict:\n",
    "            # Nếu phần tử đã tồn tại trong dictionary, tăng số đếm lên 1\n",
    "            occurrence_dict[item] += 1\n",
    "        else:\n",
    "            # Nếu phần tử chưa tồn tại trong dictionary, thêm nó và đặt số đếm là 1\n",
    "            occurrence_dict[item] = 1\n",
    "    \n",
    "    return occurrence_dict\n",
    "\n",
    "# Khai báo danh sách đầu vào\n",
    "sample_list = [11, 45, 8, 11, 23, 45, 23, 45, 89]\n",
    "\n",
    "# Gọi hàm và in kết quả\n",
    "result = count_occurrences(sample_list)\n",
    "print(\"Kết quả điếm phần tử:\", result)\n"
   ]
  },
  {
   "cell_type": "markdown",
   "id": "f4b84034-5953-4871-8974-00878cf4c40e",
   "metadata": {},
   "source": [
    "### **Python List Exercise with Solutions** ###"
   ]
  },
  {
   "cell_type": "code",
   "execution_count": 137,
   "id": "fd3c3f89-ed4d-4e9e-b270-e984426db0f5",
   "metadata": {},
   "outputs": [
    {
     "name": "stdout",
     "output_type": "stream",
     "text": [
      "Dùng slicing lần 1: [500, 400, 300, 200, 100]\n",
      "Dùng reverse() lần 2: [100, 200, 300, 400, 500]\n",
      "Dùng reversed() lần 3: [500, 400, 300, 200, 100]\n"
     ]
    }
   ],
   "source": [
    "# Phương pháp 1: Sử dụng slicing\n",
    "list1 = [100, 200, 300, 400, 500]\n",
    "list1 = list1[::-1]\n",
    "print(\"Dùng slicing lần 1:\", list1)\n",
    "\n",
    "# Phương pháp 2: Sử dụng hàm reverse()\n",
    "list1.reverse() # không gán vào biến được\n",
    "print(\"Dùng reverse() lần 2:\", list1) # list1.reverse() không in trực tiếp được\n",
    "\n",
    "# Phương pháp 3: Sử dụng hàm reversed() và list()\n",
    "reversed_list_reversed = list(reversed(list1))\n",
    "print(\"Dùng reversed() lần 3:\", reversed_list_reversed)\n"
   ]
  },
  {
   "cell_type": "code",
   "execution_count": 141,
   "id": "277a8b38-9053-4762-a514-c3c4ae5e618a",
   "metadata": {},
   "outputs": [
    {
     "name": "stdout",
     "output_type": "stream",
     "text": [
      "['My', 'name', 'is', 'Kelly']\n"
     ]
    }
   ],
   "source": [
    "def concatenate_index_wise(list1, list2):\n",
    "    # Tạo một danh sách mới để chứa kết quả\n",
    "    result = []\n",
    "    \n",
    "    # Lấy độ dài tối đa của hai danh sách\n",
    "    max_length = max(len(list1), len(list2))\n",
    "    \n",
    "    # Duyệt qua các chỉ số từ 0 đến max_length - 1\n",
    "    for i in range(max_length):\n",
    "        # Nếu chỉ số i nằm trong phạm vi của list1, lấy phần tử tại i\n",
    "        elem1 = list1[i] if i < len(list1) else \"\"\n",
    "        \n",
    "        # Nếu chỉ số i nằm trong phạm vi của list2, lấy phần tử tại i\n",
    "        elem2 = list2[i] if i < len(list2) else \"\"\n",
    "        \n",
    "        # Nối các phần tử lại với nhau và thêm vào danh sách kết quả\n",
    "        result.append(elem1 + elem2)\n",
    "    \n",
    "    return result\n",
    "\n",
    "# Khai báo danh sách đầu vào\n",
    "list1 = [\"M\", \"na\", \"i\", \"Ke\"]\n",
    "list2 = [\"y\", \"me\", \"s\", \"lly\"]\n",
    "\n",
    "# Gọi hàm và in kết quả\n",
    "result = concatenate_index_wise(list1, list2)\n",
    "print(result)\n"
   ]
  },
  {
   "cell_type": "code",
   "execution_count": 142,
   "id": "856be622-1b16-42d3-a3a1-c02d3186d260",
   "metadata": {},
   "outputs": [
    {
     "name": "stdout",
     "output_type": "stream",
     "text": [
      "[1, 4, 9, 16, 25, 36, 49]\n"
     ]
    }
   ],
   "source": [
    "def square_list(numbers):\n",
    "    # Sử dụng list comprehension để tính bình phương của từng phần tử, mạnh hơn toán tử 3 ngôi\n",
    "    squared_numbers = [x ** 2 for x in numbers]\n",
    "    return squared_numbers\n",
    "\n",
    "# Khai báo danh sách đầu vào\n",
    "numbers = [1, 2, 3, 4, 5, 6, 7]\n",
    "\n",
    "# Gọi hàm và in kết quả\n",
    "result = square_list(numbers)\n",
    "print(result)\n"
   ]
  },
  {
   "cell_type": "code",
   "execution_count": 144,
   "id": "613eae6b-ed04-406d-97d0-f051976de7ec",
   "metadata": {},
   "outputs": [
    {
     "name": "stdout",
     "output_type": "stream",
     "text": [
      "Cách 1: ['Hello Dear', 'Hello Sir', 'take Dear', 'take Sir']\n",
      "['Hello Dear', 'Hello Sir', 'take Dear', 'take Sir']\n"
     ]
    }
   ],
   "source": [
    "def concatenate_lists_order(list1, list2):\n",
    "    # Tạo danh sách kết quả để lưu các kết hợp\n",
    "    result = []\n",
    "    \n",
    "    # Sử dụng vòng lặp lồng nhau để kết hợp từng phần tử của list1 với từng phần tử của list2\n",
    "    for item1 in list1:\n",
    "        for item2 in list2:\n",
    "            result.append(item1 + item2)\n",
    "    \n",
    "    print(f'Cách 1: {[x + y for x in list1 for y in list2]}')\n",
    "    return result\n",
    "\n",
    "# Khai báo danh sách đầu vào\n",
    "list1 = [\"Hello \", \"take \"]\n",
    "list2 = [\"Dear\", \"Sir\"]\n",
    "\n",
    "# Gọi hàm và in kết quả\n",
    "result = concatenate_lists_order(list1, list2)\n",
    "print(result)\n"
   ]
  },
  {
   "cell_type": "markdown",
   "id": "29fcc164-a425-4658-8c2e-1b3189405723",
   "metadata": {},
   "source": [
    "### **Python Dictionary Exercise with Solutions** ###"
   ]
  },
  {
   "cell_type": "code",
   "execution_count": 148,
   "id": "ea303751-01a6-4c5d-85ce-104d3e5fc7ef",
   "metadata": {},
   "outputs": [
    {
     "name": "stdout",
     "output_type": "stream",
     "text": [
      "Cách 1:{'Ten': 10, 'Twenty': 20, 'Thirty': 30}\n",
      "{'Ten': 10, 'Twenty': 20, 'Thirty': 30}\n"
     ]
    }
   ],
   "source": [
    "def lists_to_dict(keys, values):\n",
    "    # Sử dụng hàm zip() để kết hợp các phần tử của hai danh sách thành các cặp (key, value)\n",
    "    # Sau đó sử dụng hàm dict() để chuyển đổi kết quả thành một dictionary\n",
    "    result_dict = dict(zip(keys, values))\n",
    "\n",
    "    res_dict = dict()\n",
    "    for i in range(len(keys)):\n",
    "        res_dict.update({keys[i]: values[i]})\n",
    "\n",
    "    print(f'Cách 1:{res_dict}')\n",
    "    return result_dict\n",
    "\n",
    "# Khai báo danh sách đầu vào\n",
    "keys = ['Ten', 'Twenty', 'Thirty']\n",
    "values = [10, 20, 30]\n",
    "\n",
    "# Gọi hàm và in kết quả\n",
    "result = lists_to_dict(keys, values)\n",
    "print(result)\n"
   ]
  },
  {
   "cell_type": "code",
   "execution_count": 3,
   "id": "94aa7c2e-90e7-4155-bbc9-1e38e6bfb41f",
   "metadata": {},
   "outputs": [
    {
     "name": "stdout",
     "output_type": "stream",
     "text": [
      "Cách 1: {'Ten': 10, 'Twenty': 20, 'Thirty': 30, 'Fourty': 40, 'Fifty': 50}\n",
      "{'Ten': 10, 'Twenty': 20, 'Thirty': 30, 'Fourty': 40, 'Fifty': 50}\n"
     ]
    }
   ],
   "source": [
    "def merge_dictionaries(dict1, dict2):\n",
    "    # Sử dụng toán tử ** để unpack và hợp nhất hai dictionary\n",
    "    merged_dict = {**dict1, **dict2}\n",
    "\n",
    "\n",
    "    dict3 = dict1.copy()\n",
    "    dict3.update(dict2)\n",
    "    print(f'Cách 1: {dict3}')\n",
    "    return merged_dict\n",
    "\n",
    "# Khai báo các dictionary đầu vào\n",
    "dict1 = {'Ten': 10, 'Twenty': 20, 'Thirty': 30}\n",
    "dict2 = {'Thirty': 30, 'Fourty': 40, 'Fifty': 50}\n",
    "\n",
    "# Gọi hàm và in kết quả\n",
    "result = merge_dictionaries(dict1, dict2)\n",
    "print(result)\n"
   ]
  },
  {
   "cell_type": "code",
   "execution_count": 4,
   "id": "022f9f40-9f0c-4219-8750-e39e5d98f398",
   "metadata": {},
   "outputs": [
    {
     "name": "stdout",
     "output_type": "stream",
     "text": [
      "80\n"
     ]
    }
   ],
   "source": [
    "# Khai báo dictionary đầu vào\n",
    "sampleDict = {\n",
    "    \"class\": {\n",
    "        \"student\": {\n",
    "            \"name\": \"Mike\",\n",
    "            \"marks\": {\n",
    "                \"physics\": 70,\n",
    "                \"history\": 80\n",
    "            }\n",
    "        }\n",
    "    }\n",
    "}\n",
    "\n",
    "# Truy xuất giá trị của key 'history'\n",
    "history_value = sampleDict[\"class\"][\"student\"][\"marks\"][\"history\"]\n",
    "\n",
    "# In kết quả\n",
    "print(history_value)\n"
   ]
  },
  {
   "cell_type": "code",
   "execution_count": 5,
   "id": "8cd0b060-76a2-472d-8e90-b0420c245671",
   "metadata": {},
   "outputs": [
    {
     "name": "stdout",
     "output_type": "stream",
     "text": [
      "{'Kelly': {'designation': 'Developer', 'salary': 8000}, 'Emma': {'designation': 'Developer', 'salary': 8000}}\n"
     ]
    }
   ],
   "source": [
    "# Khai báo danh sách employees và dictionary defaults\n",
    "employees = ['Kelly', 'Emma']\n",
    "defaults = {\"designation\": 'Developer', \"salary\": 8000}\n",
    "\n",
    "# Khởi tạo dictionary với giá trị mặc định\n",
    "employee_dict = {employee: defaults.copy() for employee in employees}\n",
    "\n",
    "# In kết quả\n",
    "print(employee_dict)\n"
   ]
  },
  {
   "cell_type": "markdown",
   "id": "baa259fa-9e03-4dc6-8778-b7b06730fa00",
   "metadata": {},
   "source": [
    "### **Python Set Exercise with Solutions** ###"
   ]
  },
  {
   "cell_type": "code",
   "execution_count": 9,
   "id": "de6c38e7-ef3e-4b5f-9a49-daf3eeaf817b",
   "metadata": {},
   "outputs": [
    {
     "name": "stdout",
     "output_type": "stream",
     "text": [
      "{'Black', 'Orange', 'Red', 'Yellow', 'Blue', 'Green'}\n"
     ]
    }
   ],
   "source": [
    "# Khai báo set và list đầu vào\n",
    "sample_set = {\"Yellow\", \"Orange\", \"Black\"}\n",
    "sample_list = [\"Blue\", \"Green\", \"Red\"]\n",
    "\n",
    "# Thêm tất cả các phần tử của sample_list vào sample_set\n",
    "sample_set.update(sample_list)\n",
    "\n",
    "# In kết quả\n",
    "print(sample_set)\n"
   ]
  },
  {
   "cell_type": "code",
   "execution_count": 18,
   "id": "80e3a665-1eba-412b-8f4f-020fdaeaff87",
   "metadata": {},
   "outputs": [
    {
     "name": "stdout",
     "output_type": "stream",
     "text": [
      "AND: {40, 50, 30}\n",
      "OR: {70, 40, 10, 50, 20, 60, 30}\n",
      "XOR: {20, 70, 10, 60}\n"
     ]
    }
   ],
   "source": [
    "# Khai báo hai set đầu vào\n",
    "set1 = {10, 20, 30, 40, 50}\n",
    "set2 = {30, 40, 50, 60, 70}\n",
    "\n",
    "# Tìm các phần tử giống nhau trong hai set bằng toán tử giao &\n",
    "print(f'AND: {set1 & set2}')\n",
    "print(f'OR: {set1 | set2}')\n",
    "print(f'XOR: {set1 ^ set2}')\n",
    "\n",
    "# In kết quả\n",
    "\n"
   ]
  },
  {
   "cell_type": "code",
   "execution_count": null,
   "id": "1d0e66d5-7c1a-4bff-bfaf-dacde7eea8c0",
   "metadata": {},
   "outputs": [],
   "source": [
    "# Khai báo hai set đầu vào\n",
    "set1 = {10, 20, 30, 40, 50}\n",
    "set2 = {30, 40, 50, 60, 70}\n",
    "\n",
    "# Lấy các phần tử duy nhất từ hai set bằng toán tử hợp |\n",
    "unique_items_set = set1 | set2\n",
    "\n",
    "# In kết quả\n",
    "print(unique_items_set)\n"
   ]
  },
  {
   "cell_type": "code",
   "execution_count": 19,
   "id": "cd1ae1b4-ccfc-41d3-81ff-e693a83548b3",
   "metadata": {},
   "outputs": [
    {
     "name": "stdout",
     "output_type": "stream",
     "text": [
      "set1 {10, 30}\n"
     ]
    }
   ],
   "source": [
    "# Khai báo hai set đầu vào\n",
    "set1 = {10, 20, 30}\n",
    "set2 = {20, 40, 50}\n",
    "\n",
    "# Cập nhật set1 với các phần tử chỉ tồn tại trong set1 mà không tồn tại trong set2\n",
    "set1 = set1 - set2\n",
    "\n",
    "# In kết quả\n",
    "print(\"set1\", set1)\n"
   ]
  },
  {
   "cell_type": "markdown",
   "id": "2aaad4a1-2801-41fc-acf0-41d69dc03d7f",
   "metadata": {},
   "source": [
    "### **Python Tuple Exercise with Solutions** ###"
   ]
  },
  {
   "cell_type": "code",
   "execution_count": 20,
   "id": "5737fc18-23e8-488d-ae00-79e05d0cdf3c",
   "metadata": {},
   "outputs": [
    {
     "name": "stdout",
     "output_type": "stream",
     "text": [
      "(50, 40, 30, 20, 10)\n"
     ]
    }
   ],
   "source": [
    "# Khai báo tuple đầu vào\n",
    "tuple1 = (10, 20, 30, 40, 50)\n",
    "\n",
    "# Đảo ngược tuple sử dụng slicing\n",
    "reversed_tuple = tuple1[::-1]\n",
    "\n",
    "# In kết quả\n",
    "print(reversed_tuple)\n"
   ]
  },
  {
   "cell_type": "code",
   "execution_count": 23,
   "id": "872a890e-5322-44c6-8e41-713f06d417bb",
   "metadata": {},
   "outputs": [
    {
     "name": "stdout",
     "output_type": "stream",
     "text": [
      "20\n"
     ]
    }
   ],
   "source": [
    "# Khai báo tuple đầu vào\n",
    "tuple1 = (\"Orange\", [10, 20, 30], (5, 15, 25))\n",
    "\n",
    "# Truy cập giá trị 20 từ tuple lồng nhau\n",
    "value = tuple1[1][1]\n",
    "\n",
    "# In kết quả\n",
    "print(value)\n"
   ]
  },
  {
   "cell_type": "code",
   "execution_count": 24,
   "id": "eade5f7b-9b14-45d0-a27f-790ffac7192c",
   "metadata": {},
   "outputs": [
    {
     "name": "stdout",
     "output_type": "stream",
     "text": [
      "(50,)\n"
     ]
    }
   ],
   "source": [
    "# Tạo một tuple với một phần tử 50\n",
    "single_item_tuple = (50,)\n",
    "\n",
    "# In kết quả\n",
    "print(single_item_tuple)\n"
   ]
  },
  {
   "cell_type": "code",
   "execution_count": 25,
   "id": "8938eccc-eeb2-4b23-90b4-c617d11dcd08",
   "metadata": {},
   "outputs": [
    {
     "name": "stdout",
     "output_type": "stream",
     "text": [
      "10\n",
      "20\n",
      "30\n",
      "40\n"
     ]
    }
   ],
   "source": [
    "# Khai báo tuple đầu vào\n",
    "tuple1 = (10, 20, 30, 40)\n",
    "\n",
    "# Giải nén tuple thành các biến\n",
    "a, b, c, d = tuple1\n",
    "\n",
    "# In kết quả\n",
    "print(a)  # should print 10\n",
    "print(b)  # should print 20\n",
    "print(c)  # should print 30\n",
    "print(d)  # should print 40\n"
   ]
  },
  {
   "cell_type": "markdown",
   "id": "65f264ee-23ba-4e52-a2a8-ad6362ccec20",
   "metadata": {},
   "source": [
    "### **Python Date and Time Exercise with Solutions** ###"
   ]
  },
  {
   "cell_type": "code",
   "execution_count": 31,
   "id": "57823f4e-66e1-427f-8d04-accee251598a",
   "metadata": {},
   "outputs": [
    {
     "name": "stdout",
     "output_type": "stream",
     "text": [
      "Current date and time: 2024-08-09 17:38:02.481943\n"
     ]
    }
   ],
   "source": [
    "from datetime import datetime\n",
    "\n",
    "# Lấy ngày và giờ hiện tại\n",
    "current_datetime = datetime.now()\n",
    "\n",
    "# In kết quả\n",
    "print(\"Current date and time:\", current_datetime)\n"
   ]
  },
  {
   "cell_type": "code",
   "execution_count": 32,
   "id": "caaa6d0e-84ff-4002-8666-c8d841b03cac",
   "metadata": {},
   "outputs": [
    {
     "name": "stdout",
     "output_type": "stream",
     "text": [
      "Datetime object: 2020-02-25 16:20:00\n"
     ]
    }
   ],
   "source": [
    "from datetime import datetime\n",
    "\n",
    "# Khai báo chuỗi ngày giờ đầu vào\n",
    "date_string = \"Feb 25 2020 4:20PM\"\n",
    "\n",
    "# Chuyển đổi chuỗi thành đối tượng datetime\n",
    "date_object = datetime.strptime(date_string, \"%b %d %Y %I:%M%p\")\n",
    "\n",
    "# In kết quả\n",
    "print(\"Datetime object:\", date_object)\n"
   ]
  },
  {
   "cell_type": "code",
   "execution_count": 33,
   "id": "4ec4d0fc-5826-4b91-8ac5-7bd0e884d498",
   "metadata": {},
   "outputs": [
    {
     "name": "stdout",
     "output_type": "stream",
     "text": [
      "New date: 2020-02-18\n"
     ]
    }
   ],
   "source": [
    "from datetime import datetime, timedelta\n",
    "\n",
    "# Khai báo ngày cho trước\n",
    "given_date = datetime(2020, 2, 25)\n",
    "\n",
    "# Trừ một tuần (7 ngày) từ ngày cho trước\n",
    "new_date = given_date - timedelta(days=7)\n",
    "\n",
    "# In kết quả\n",
    "print(\"New date:\", new_date.date())\n"
   ]
  },
  {
   "cell_type": "code",
   "execution_count": 41,
   "id": "f3eefa0d-9f12-4d0f-9a14-0bc3148b5232",
   "metadata": {},
   "outputs": [
    {
     "name": "stdout",
     "output_type": "stream",
     "text": [
      "Formatted date: Tuesday 25 February 2020\n"
     ]
    }
   ],
   "source": [
    "from datetime import datetime\n",
    "\n",
    "# Khai báo ngày cho trước\n",
    "given_date = datetime(2020, 2, 25)\n",
    "\n",
    "# Định dạng ngày theo định dạng yêu cầu\n",
    "formatted_date = given_date.strftime(\"%A %d %B %Y\")\n",
    "\n",
    "# In kết quả\n",
    "print(\"Formatted date:\", formatted_date)\n"
   ]
  },
  {
   "cell_type": "markdown",
   "id": "c0bbc54e-8d84-4ac8-8c05-ef4cbaad123e",
   "metadata": {},
   "source": [
    "### **Python Object-Oriented Programming (OOP) Exercise: Classes and Objects Exercises** ###"
   ]
  },
  {
   "cell_type": "code",
   "execution_count": 49,
   "id": "b1d279fe-1eb9-4a23-aeb7-954ed0763b5b",
   "metadata": {},
   "outputs": [
    {
     "name": "stdout",
     "output_type": "stream",
     "text": [
      "Max Speed: 240, Mileage: a\n"
     ]
    }
   ],
   "source": [
    "class Vehicle:\n",
    "    def __init__(self, max_speed, mileage):\n",
    "        self.max_speed = max_speed\n",
    "        self.mileage = mileage\n",
    "\n",
    "# Tạo đối tượng Vehicle\n",
    "vehicle = Vehicle(240, 'a')\n",
    "\n",
    "# In thuộc tính của đối tượng\n",
    "print(f\"Max Speed: {vehicle.max_speed}, Mileage: {vehicle.mileage}\")\n"
   ]
  },
  {
   "cell_type": "code",
   "execution_count": 60,
   "id": "eaaa1b3b-6117-47c7-92eb-70c9fdcd988c",
   "metadata": {},
   "outputs": [
    {
     "name": "stdout",
     "output_type": "stream",
     "text": [
      "Nghĩa\n"
     ]
    }
   ],
   "source": [
    "class Vehicle:\n",
    "    pass\n",
    "\n",
    "# Tạo đối tượng Vehicle\n",
    "vehicle = Vehicle()\n",
    "vehicle.name = \"Nghĩa\"\n",
    "\n",
    "print(vehicle.name)"
   ]
  },
  {
   "cell_type": "code",
   "execution_count": 59,
   "id": "4d54d1a0-73ed-456c-ab10-46652d8b6d33",
   "metadata": {},
   "outputs": [
    {
     "name": "stdout",
     "output_type": "stream",
     "text": [
      "Vehicle Name: School Volvo Speed: 180 Mileage: 12\n"
     ]
    }
   ],
   "source": [
    "class Vehicle:\n",
    "    def __init__(self, name, max_speed, mileage):\n",
    "        self.name = name\n",
    "        self.max_speed = max_speed\n",
    "        self.mileage = mileage\n",
    "\n",
    "class Bus(Vehicle):\n",
    "    pass\n",
    "\n",
    "# Tạo đối tượng Bus kế thừa từ Vehicle\n",
    "bus = Bus(\"School Volvo\", 180, 12)\n",
    "\n",
    "# In thông tin của đối tượng Bus\n",
    "print(f\"Vehicle Name: {bus.name} Speed: {bus.max_speed} Mileage: {bus.mileage}\")\n"
   ]
  },
  {
   "cell_type": "code",
   "execution_count": 63,
   "id": "2bcd2609-18a5-4011-9242-1795180f1de2",
   "metadata": {},
   "outputs": [
    {
     "name": "stdout",
     "output_type": "stream",
     "text": [
      "The seating capacity of a School Volvo is 67 passengers\n"
     ]
    }
   ],
   "source": [
    "class Vehicle:\n",
    "    def __init__(self, name, max_speed, mileage):\n",
    "        self.name = name\n",
    "        self.max_speed = max_speed\n",
    "        self.mileage = mileage\n",
    "\n",
    "    def seating_capacity(self, capacity):\n",
    "        return f\"The seating capacity of a {self.name} is {capacity} passengers\"\n",
    "\n",
    "class Bus(Vehicle):\n",
    "    def seating_capacity(self, capacity=50):\n",
    "        return super().seating_capacity(capacity)\n",
    "\n",
    "# Tạo đối tượng Bus kế thừa từ Vehicle\n",
    "bus = Bus(\"School Volvo\", 180, 12)\n",
    "\n",
    "# In thông tin của đối tượng Bus\n",
    "print(bus.seating_capacity(67))\n"
   ]
  }
 ],
 "metadata": {
  "kernelspec": {
   "display_name": "Python 3 (ipykernel)",
   "language": "python",
   "name": "python3"
  },
  "language_info": {
   "codemirror_mode": {
    "name": "ipython",
    "version": 3
   },
   "file_extension": ".py",
   "mimetype": "text/x-python",
   "name": "python",
   "nbconvert_exporter": "python",
   "pygments_lexer": "ipython3",
   "version": "3.12.4"
  }
 },
 "nbformat": 4,
 "nbformat_minor": 5
}
